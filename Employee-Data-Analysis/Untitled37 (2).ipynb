{
 "cells": [
  {
   "cell_type": "markdown",
   "id": "84402e75-9801-4101-963e-9acaed41ca6b",
   "metadata": {},
   "source": [
    "# 🧠 Employee Data Analysis Project\n"
   ]
  },
  {
   "cell_type": "code",
   "execution_count": 2,
   "id": "0a6bf79a-5bb9-4892-93b5-ae06645e9eb1",
   "metadata": {},
   "outputs": [],
   "source": [
    "import pandas as pd"
   ]
  },
  {
   "cell_type": "code",
   "execution_count": 28,
   "id": "ca2346f5-a515-4c00-953b-ef270697de91",
   "metadata": {},
   "outputs": [
    {
     "data": {
      "text/html": [
       "<div>\n",
       "<style scoped>\n",
       "    .dataframe tbody tr th:only-of-type {\n",
       "        vertical-align: middle;\n",
       "    }\n",
       "\n",
       "    .dataframe tbody tr th {\n",
       "        vertical-align: top;\n",
       "    }\n",
       "\n",
       "    .dataframe thead th {\n",
       "        text-align: right;\n",
       "    }\n",
       "</style>\n",
       "<table border=\"1\" class=\"dataframe\">\n",
       "  <thead>\n",
       "    <tr style=\"text-align: right;\">\n",
       "      <th></th>\n",
       "      <th>EmployeeID</th>\n",
       "      <th>Name</th>\n",
       "      <th>Age</th>\n",
       "      <th>Department</th>\n",
       "      <th>Country</th>\n",
       "      <th>Gender</th>\n",
       "      <th>MaritalStatus</th>\n",
       "      <th>Salary</th>\n",
       "      <th>ExperienceYears</th>\n",
       "      <th>WorkType</th>\n",
       "      <th>JoinDate</th>\n",
       "    </tr>\n",
       "  </thead>\n",
       "  <tbody>\n",
       "    <tr>\n",
       "      <th>0</th>\n",
       "      <td>EMP1000</td>\n",
       "      <td>Norma Fisher</td>\n",
       "      <td>22</td>\n",
       "      <td>Marketing</td>\n",
       "      <td>Egypt</td>\n",
       "      <td>Female</td>\n",
       "      <td>Divorced</td>\n",
       "      <td>14042.0</td>\n",
       "      <td>9.0</td>\n",
       "      <td>Hybrid</td>\n",
       "      <td>2018-08-31</td>\n",
       "    </tr>\n",
       "    <tr>\n",
       "      <th>1</th>\n",
       "      <td>EMP1001</td>\n",
       "      <td>Jorge Sullivan</td>\n",
       "      <td>25</td>\n",
       "      <td>Marketing</td>\n",
       "      <td>Brazil</td>\n",
       "      <td>Male</td>\n",
       "      <td>Divorced</td>\n",
       "      <td>NaN</td>\n",
       "      <td>4.0</td>\n",
       "      <td>Remote</td>\n",
       "      <td>2016-10-11</td>\n",
       "    </tr>\n",
       "    <tr>\n",
       "      <th>2</th>\n",
       "      <td>EMP1002</td>\n",
       "      <td>Elizabeth Woods</td>\n",
       "      <td>25</td>\n",
       "      <td>IT</td>\n",
       "      <td>India</td>\n",
       "      <td>Male</td>\n",
       "      <td>Divorced</td>\n",
       "      <td>8208.0</td>\n",
       "      <td>17.0</td>\n",
       "      <td>Remote</td>\n",
       "      <td>2015-12-07</td>\n",
       "    </tr>\n",
       "    <tr>\n",
       "      <th>3</th>\n",
       "      <td>EMP1003</td>\n",
       "      <td>Susan Wagner</td>\n",
       "      <td>31</td>\n",
       "      <td>Finance</td>\n",
       "      <td>Egypt</td>\n",
       "      <td>Female</td>\n",
       "      <td>Divorced</td>\n",
       "      <td>9177.0</td>\n",
       "      <td>18.0</td>\n",
       "      <td>Onsite</td>\n",
       "      <td>2016-07-11</td>\n",
       "    </tr>\n",
       "    <tr>\n",
       "      <th>4</th>\n",
       "      <td>EMP1004</td>\n",
       "      <td>Peter Montgomery</td>\n",
       "      <td>41</td>\n",
       "      <td>Sales</td>\n",
       "      <td>Brazil</td>\n",
       "      <td>Male</td>\n",
       "      <td>Single</td>\n",
       "      <td>17981.0</td>\n",
       "      <td>13.0</td>\n",
       "      <td>Hybrid</td>\n",
       "      <td>2019-10-18</td>\n",
       "    </tr>\n",
       "    <tr>\n",
       "      <th>5</th>\n",
       "      <td>EMP1005</td>\n",
       "      <td>Theodore Mcgrath</td>\n",
       "      <td>43</td>\n",
       "      <td>Marketing</td>\n",
       "      <td>Egypt</td>\n",
       "      <td>Male</td>\n",
       "      <td>Single</td>\n",
       "      <td>7863.0</td>\n",
       "      <td>13.0</td>\n",
       "      <td>Remote</td>\n",
       "      <td>2020-07-11</td>\n",
       "    </tr>\n",
       "    <tr>\n",
       "      <th>6</th>\n",
       "      <td>EMP1006</td>\n",
       "      <td>Stephanie Collins</td>\n",
       "      <td>58</td>\n",
       "      <td>Marketing</td>\n",
       "      <td>France</td>\n",
       "      <td>Female</td>\n",
       "      <td>Single</td>\n",
       "      <td>17626.0</td>\n",
       "      <td>2.0</td>\n",
       "      <td>Remote</td>\n",
       "      <td>2024-05-28</td>\n",
       "    </tr>\n",
       "    <tr>\n",
       "      <th>7</th>\n",
       "      <td>EMP1007</td>\n",
       "      <td>Stephanie Sutton</td>\n",
       "      <td>45</td>\n",
       "      <td>Finance</td>\n",
       "      <td>India</td>\n",
       "      <td>Female</td>\n",
       "      <td>Divorced</td>\n",
       "      <td>11389.0</td>\n",
       "      <td>3.0</td>\n",
       "      <td>Onsite</td>\n",
       "      <td>2021-02-10</td>\n",
       "    </tr>\n",
       "    <tr>\n",
       "      <th>8</th>\n",
       "      <td>EMP1008</td>\n",
       "      <td>Brian Hamilton</td>\n",
       "      <td>28</td>\n",
       "      <td>Marketing</td>\n",
       "      <td>USA</td>\n",
       "      <td>Female</td>\n",
       "      <td>Divorced</td>\n",
       "      <td>3894.0</td>\n",
       "      <td>9.0</td>\n",
       "      <td>Onsite</td>\n",
       "      <td>2017-05-04</td>\n",
       "    </tr>\n",
       "    <tr>\n",
       "      <th>9</th>\n",
       "      <td>EMP1009</td>\n",
       "      <td>Susan Levy</td>\n",
       "      <td>46</td>\n",
       "      <td>Finance</td>\n",
       "      <td>Germany</td>\n",
       "      <td>Male</td>\n",
       "      <td>Divorced</td>\n",
       "      <td>18440.0</td>\n",
       "      <td>12.0</td>\n",
       "      <td>Hybrid</td>\n",
       "      <td>2024-05-07</td>\n",
       "    </tr>\n",
       "  </tbody>\n",
       "</table>\n",
       "</div>"
      ],
      "text/plain": [
       "  EmployeeID               Name  Age Department  Country  Gender  \\\n",
       "0    EMP1000       Norma Fisher   22  Marketing    Egypt  Female   \n",
       "1    EMP1001     Jorge Sullivan   25  Marketing   Brazil    Male   \n",
       "2    EMP1002    Elizabeth Woods   25         IT    India    Male   \n",
       "3    EMP1003       Susan Wagner   31    Finance    Egypt  Female   \n",
       "4    EMP1004   Peter Montgomery   41      Sales   Brazil    Male   \n",
       "5    EMP1005   Theodore Mcgrath   43  Marketing    Egypt    Male   \n",
       "6    EMP1006  Stephanie Collins   58  Marketing   France  Female   \n",
       "7    EMP1007   Stephanie Sutton   45    Finance    India  Female   \n",
       "8    EMP1008     Brian Hamilton   28  Marketing      USA  Female   \n",
       "9    EMP1009         Susan Levy   46    Finance  Germany    Male   \n",
       "\n",
       "  MaritalStatus   Salary  ExperienceYears WorkType    JoinDate  \n",
       "0      Divorced  14042.0              9.0   Hybrid  2018-08-31  \n",
       "1      Divorced      NaN              4.0   Remote  2016-10-11  \n",
       "2      Divorced   8208.0             17.0   Remote  2015-12-07  \n",
       "3      Divorced   9177.0             18.0   Onsite  2016-07-11  \n",
       "4        Single  17981.0             13.0   Hybrid  2019-10-18  \n",
       "5        Single   7863.0             13.0   Remote  2020-07-11  \n",
       "6        Single  17626.0              2.0   Remote  2024-05-28  \n",
       "7      Divorced  11389.0              3.0   Onsite  2021-02-10  \n",
       "8      Divorced   3894.0              9.0   Onsite  2017-05-04  \n",
       "9      Divorced  18440.0             12.0   Hybrid  2024-05-07  "
      ]
     },
     "execution_count": 28,
     "metadata": {},
     "output_type": "execute_result"
    }
   ],
   "source": [
    "df = pd.read_csv('employees_data.csv')\n",
    "df.head(10)"
   ]
  },
  {
   "cell_type": "code",
   "execution_count": 52,
   "id": "f4f5348e-d41c-41f3-ad4e-dcdc241f892e",
   "metadata": {},
   "outputs": [
    {
     "data": {
      "text/plain": [
       "((200, 11),\n",
       " EmployeeID          object\n",
       " Name                object\n",
       " Age                  int64\n",
       " Department          object\n",
       " Country             object\n",
       " Gender              object\n",
       " MaritalStatus       object\n",
       " Salary             float64\n",
       " ExperienceYears    float64\n",
       " WorkType            object\n",
       " JoinDate            object\n",
       " dtype: object,\n",
       " EmployeeID          object\n",
       " Name                object\n",
       " Age                  int64\n",
       " Department          object\n",
       " Country             object\n",
       " Gender              object\n",
       " MaritalStatus       object\n",
       " Salary             float64\n",
       " ExperienceYears    float64\n",
       " WorkType            object\n",
       " JoinDate            object\n",
       " dtype: object)"
      ]
     },
     "execution_count": 52,
     "metadata": {},
     "output_type": "execute_result"
    }
   ],
   "source": [
    "df.shape,df.dtypes,"
   ]
  },
  {
   "cell_type": "markdown",
   "id": "4eaf1ea1-1ed4-4a6e-82af-1078d9b86c12",
   "metadata": {},
   "source": [
    "# age info"
   ]
  },
  {
   "cell_type": "code",
   "execution_count": 66,
   "id": "ffd89434-eecd-464f-9b19-92bcdab18973",
   "metadata": {},
   "outputs": [
    {
     "data": {
      "text/plain": [
       "22"
      ]
     },
     "execution_count": 66,
     "metadata": {},
     "output_type": "execute_result"
    }
   ],
   "source": [
    "\n",
    "df['Age'].min()\n"
   ]
  },
  {
   "cell_type": "code",
   "execution_count": 60,
   "id": "5f7802aa-e013-421a-ab2d-c50d4bf0617c",
   "metadata": {},
   "outputs": [
    {
     "data": {
      "text/plain": [
       "59"
      ]
     },
     "execution_count": 60,
     "metadata": {},
     "output_type": "execute_result"
    }
   ],
   "source": [
    "df['Age'].max()"
   ]
  },
  {
   "cell_type": "code",
   "execution_count": 64,
   "id": "35be0bfb-e2be-4811-9aec-08eea6e2b8f6",
   "metadata": {},
   "outputs": [
    {
     "data": {
      "text/plain": [
       "39.55"
      ]
     },
     "execution_count": 64,
     "metadata": {},
     "output_type": "execute_result"
    }
   ],
   "source": [
    "df['Age'].mean()"
   ]
  },
  {
   "cell_type": "markdown",
   "id": "496bdc2a-ea7b-4813-8102-b732e242805a",
   "metadata": {},
   "source": [
    "# data cleaning\n"
   ]
  },
  {
   "cell_type": "code",
   "execution_count": 85,
   "id": "0ef58d06-dd2d-4980-aa11-37b9796aa5af",
   "metadata": {},
   "outputs": [
    {
     "data": {
      "text/plain": [
       "EmployeeID         0\n",
       "Name               0\n",
       "Age                0\n",
       "Department         0\n",
       "Country            0\n",
       "Gender             0\n",
       "MaritalStatus      4\n",
       "Salary             6\n",
       "ExperienceYears    3\n",
       "WorkType           0\n",
       "JoinDate           0\n",
       "dtype: int64"
      ]
     },
     "execution_count": 85,
     "metadata": {},
     "output_type": "execute_result"
    }
   ],
   "source": [
    "df.isna().sum()"
   ]
  },
  {
   "cell_type": "code",
   "execution_count": 97,
   "id": "8b4b608c-3d73-436f-9816-4c77c505bed1",
   "metadata": {},
   "outputs": [],
   "source": [
    "df_cleaned=df.dropna()"
   ]
  },
  {
   "cell_type": "code",
   "execution_count": 103,
   "id": "e2559722-78ab-4f5f-a030-f2ee605b7a67",
   "metadata": {},
   "outputs": [],
   "source": [
    "df['ExperienceYears'] = df['ExperienceYears'].fillna(df['ExperienceYears'].mean())"
   ]
  },
  {
   "cell_type": "code",
   "execution_count": 107,
   "id": "c2ede7da-e0e8-4755-b514-e8af596e2839",
   "metadata": {},
   "outputs": [
    {
     "data": {
      "text/plain": [
       "0      Divorced\n",
       "1      Divorced\n",
       "2      Divorced\n",
       "3      Divorced\n",
       "4        Single\n",
       "         ...   \n",
       "195     Married\n",
       "196      Single\n",
       "197    Divorced\n",
       "198     Married\n",
       "199     Married\n",
       "Name: MaritalStatus, Length: 200, dtype: object"
      ]
     },
     "execution_count": 107,
     "metadata": {},
     "output_type": "execute_result"
    }
   ],
   "source": [
    "df['MaritalStatus'].fillna('Unknown')"
   ]
  },
  {
   "cell_type": "markdown",
   "id": "426d2875-42f1-4903-aedc-0f7308001fa5",
   "metadata": {},
   "source": [
    "# Data Analysis"
   ]
  },
  {
   "cell_type": "markdown",
   "id": "d44e06ed-6568-4bf8-9f59-70261597af71",
   "metadata": {},
   "source": [
    "Count the number of employees in each country\n"
   ]
  },
  {
   "cell_type": "code",
   "execution_count": 120,
   "id": "316ac349-cbfa-4429-9053-7b3e2b7f3149",
   "metadata": {},
   "outputs": [
    {
     "data": {
      "text/plain": [
       "Country\n",
       "France     44\n",
       "Egypt      35\n",
       "Germany    33\n",
       "India      31\n",
       "USA        29\n",
       "Brazil     28\n",
       "Name: count, dtype: int64"
      ]
     },
     "execution_count": 120,
     "metadata": {},
     "output_type": "execute_result"
    }
   ],
   "source": [
    "df['Country'].value_counts()"
   ]
  },
  {
   "cell_type": "markdown",
   "id": "ac5d1a76-6783-4c08-a9af-e6900235a002",
   "metadata": {},
   "source": [
    "Calculate the average, minimum, and maximum salary for each country"
   ]
  },
  {
   "cell_type": "code",
   "execution_count": 127,
   "id": "48c41a92-6599-40f8-8910-2f37246f7f54",
   "metadata": {},
   "outputs": [
    {
     "data": {
      "text/html": [
       "<div>\n",
       "<style scoped>\n",
       "    .dataframe tbody tr th:only-of-type {\n",
       "        vertical-align: middle;\n",
       "    }\n",
       "\n",
       "    .dataframe tbody tr th {\n",
       "        vertical-align: top;\n",
       "    }\n",
       "\n",
       "    .dataframe thead th {\n",
       "        text-align: right;\n",
       "    }\n",
       "</style>\n",
       "<table border=\"1\" class=\"dataframe\">\n",
       "  <thead>\n",
       "    <tr style=\"text-align: right;\">\n",
       "      <th></th>\n",
       "      <th>mean</th>\n",
       "      <th>min</th>\n",
       "      <th>max</th>\n",
       "    </tr>\n",
       "    <tr>\n",
       "      <th>Country</th>\n",
       "      <th></th>\n",
       "      <th></th>\n",
       "      <th></th>\n",
       "    </tr>\n",
       "  </thead>\n",
       "  <tbody>\n",
       "    <tr>\n",
       "      <th>Brazil</th>\n",
       "      <td>12522.923077</td>\n",
       "      <td>3586.0</td>\n",
       "      <td>19979.0</td>\n",
       "    </tr>\n",
       "    <tr>\n",
       "      <th>Egypt</th>\n",
       "      <td>11637.571429</td>\n",
       "      <td>3967.0</td>\n",
       "      <td>19676.0</td>\n",
       "    </tr>\n",
       "    <tr>\n",
       "      <th>France</th>\n",
       "      <td>10837.761905</td>\n",
       "      <td>3375.0</td>\n",
       "      <td>19713.0</td>\n",
       "    </tr>\n",
       "    <tr>\n",
       "      <th>Germany</th>\n",
       "      <td>10829.090909</td>\n",
       "      <td>3093.0</td>\n",
       "      <td>19363.0</td>\n",
       "    </tr>\n",
       "    <tr>\n",
       "      <th>India</th>\n",
       "      <td>10553.500000</td>\n",
       "      <td>3433.0</td>\n",
       "      <td>19821.0</td>\n",
       "    </tr>\n",
       "    <tr>\n",
       "      <th>USA</th>\n",
       "      <td>9549.892857</td>\n",
       "      <td>3063.0</td>\n",
       "      <td>18923.0</td>\n",
       "    </tr>\n",
       "  </tbody>\n",
       "</table>\n",
       "</div>"
      ],
      "text/plain": [
       "                 mean     min      max\n",
       "Country                               \n",
       "Brazil   12522.923077  3586.0  19979.0\n",
       "Egypt    11637.571429  3967.0  19676.0\n",
       "France   10837.761905  3375.0  19713.0\n",
       "Germany  10829.090909  3093.0  19363.0\n",
       "India    10553.500000  3433.0  19821.0\n",
       "USA       9549.892857  3063.0  18923.0"
      ]
     },
     "execution_count": 127,
     "metadata": {},
     "output_type": "execute_result"
    }
   ],
   "source": [
    "df.groupby ('Country')['Salary'].agg(['mean','min','max'])"
   ]
  },
  {
   "cell_type": "markdown",
   "id": "23d470cd-5e9c-4963-80af-22b9f7474d2b",
   "metadata": {},
   "source": [
    "Count the number of employees by gender.\n"
   ]
  },
  {
   "cell_type": "code",
   "execution_count": 136,
   "id": "ee28f616-1546-47f4-90a3-037ddaf6b3dc",
   "metadata": {},
   "outputs": [
    {
     "data": {
      "text/plain": [
       "Gender\n",
       "Female    101\n",
       "Male       99\n",
       "Name: count, dtype: int64"
      ]
     },
     "execution_count": 136,
     "metadata": {},
     "output_type": "execute_result"
    }
   ],
   "source": [
    "df['Gender'].value_counts()"
   ]
  },
  {
   "cell_type": "markdown",
   "id": "1fb33df6-ef54-4b2a-bd1b-19cc739526c9",
   "metadata": {},
   "source": [
    "What is the average years of experience for each job title"
   ]
  },
  {
   "cell_type": "code",
   "execution_count": 144,
   "id": "8d5e4af1-f7ab-47b7-b9cd-8cff0cbdc3e1",
   "metadata": {},
   "outputs": [
    {
     "data": {
      "text/plain": [
       "Department\n",
       "Finance       10.362151\n",
       "HR             9.212543\n",
       "IT             9.512195\n",
       "Marketing      9.576923\n",
       "Operations    10.322581\n",
       "Sales          8.758688\n",
       "Name: ExperienceYears, dtype: float64"
      ]
     },
     "execution_count": 144,
     "metadata": {},
     "output_type": "execute_result"
    }
   ],
   "source": [
    "df.groupby('Department')['ExperienceYears'].mean()\n"
   ]
  },
  {
   "cell_type": "code",
   "execution_count": 156,
   "id": "cb5d0563-1b20-4e04-b2d9-c093f652c367",
   "metadata": {},
   "outputs": [
    {
     "data": {
      "image/png": "[encoded data removed]",
      "text/plain": [
       "<Figure size 800x400 with 1 Axes>"
      ]
     },
     "metadata": {},
     "output_type": "display_data"
    }
   ],
   "source": [
    "import matplotlib.pyplot as plt\n",
    "df['Country'].value_counts().plot(kind='bar',figsize=(8,4), color='Red')\n",
    "plt.title('Number of Employees by Country')\n",
    "plt.xlabel('Country')\n",
    "plt.ylabel('Count')\n",
    "plt.show()\n"
   ]
  },
  {
   "cell_type": "markdown",
   "id": "60018788-760d-4ad3-9e5f-159649d9b896",
   "metadata": {},
   "source": [
    "showing the gender distribution:\n"
   ]
  },
  {
   "cell_type": "code",
   "execution_count": 159,
   "id": "61b2fb4e-57ee-4a60-9dfa-3df565fcda89",
   "metadata": {},
   "outputs": [
    {
     "data": {
      "image/png": "[encoded data removed]",
      "text/plain": [
       "<Figure size 640x480 with 1 Axes>"
      ]
     },
     "metadata": {},
     "output_type": "display_data"
    }
   ],
   "source": [
    "df['Gender'].value_counts().plot(kind='pie', autopct='%1.1f%%')\n",
    "plt.title('Gender Distribution')\n",
    "plt.ylabel('')\n",
    "plt.show()"
   ]
  },
  {
   "cell_type": "markdown",
   "id": "b65dbbce-7956-4e83-b138-78a6947baca2",
   "metadata": {},
   "source": [
    "Use Seaborn to draw a boxplot of Salary by Gender"
   ]
  },
  {
   "cell_type": "code",
   "execution_count": 162,
   "id": "07baf596-c96d-4fba-968b-142631be300f",
   "metadata": {},
   "outputs": [
    {
     "data": {
      "image/png": "[encoded data removed]",
      "text/plain": [
       "<Figure size 640x480 with 1 Axes>"
      ]
     },
     "metadata": {},
     "output_type": "display_data"
    }
   ],
   "source": [
    "import seaborn as sns\n",
    "\n",
    "sns.boxplot(x='Gender', y='Salary', data=df)\n",
    "plt.title('Salary Distribution by Gender')\n",
    "plt.show()"
   ]
  },
  {
   "cell_type": "code",
   "execution_count": null,
   "id": "011fdb2f-e33a-4736-a7be-86bb0629aa6b",
   "metadata": {},
   "outputs": [],
   "source": []
  }
 ],
 "metadata": {
  "kernelspec": {
   "display_name": "Python 3 (ipykernel)",
   "language": "python",
   "name": "python3"
  },
  "language_info": {
   "codemirror_mode": {
    "name": "ipython",
    "version": 3
   },
   "file_extension": ".py",
   "mimetype": "text/x-python",
   "name": "python",
   "nbconvert_exporter": "python",
   "pygments_lexer": "ipython3",
   "version": "3.12.4"
  }
 },
 "nbformat": 4,
 "nbformat_minor": 5
}
